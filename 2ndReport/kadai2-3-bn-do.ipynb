{
 "cells": [
  {
   "cell_type": "markdown",
   "metadata": {},
   "source": [
    "# 【第２回目　課題３】Kerasを使った深層学習 (3): MNIST編\n",
    "\n",
    "Kerasでの分類問題の最初の練習として，手書き文字データセットであるMNISTの分類を行ってみます．\n",
    "Yan LeCunが，最初にCNNの提案を行った論文中の実験で利用した歴史的なデータセットです．\n",
    "\n",
    "０から９までの１０文字です．28x28の大きさのグレースケールの文字画像が6万枚含まれます．"
   ]
  },
  {
   "cell_type": "code",
   "execution_count": 1,
   "metadata": {},
   "outputs": [
    {
     "name": "stderr",
     "output_type": "stream",
     "text": [
      "Using TensorFlow backend.\n",
      "using GPU: 1\n"
     ]
    }
   ],
   "source": [
    "%matplotlib inline\n",
    "import matplotlib.pyplot as plt\n",
    "from IPython import display\n",
    "import time\n",
    "import os\n",
    "\n",
    "# proxyの設定．\n",
    "# keras.datasetsでは，datasetを直接ダウンロードするので，学内マシンからは通常必要．\n",
    "os.environ[\"http_proxy\"] = \"http://proxy.uec.ac.jp:8080/\"\n",
    "os.environ[\"https_proxy\"] = \"http://proxy.uec.ac.jp:8080/\"\n",
    "os.environ[\"CUDA_VISIBLE_DEVICES\"] = \"1\"      # \"0\":GPU0, \"1\":GPU1, \"0,1\":GPUを2つとも使用\n",
    "\n",
    "import numpy as np\n",
    "import keras\n",
    "import keras.datasets"
   ]
  },
  {
   "cell_type": "markdown",
   "metadata": {},
   "source": [
    "### <a href=\"https://keras.io/ja/datasets/\">データセットの自動読み込み</a>\n",
    "\n",
    "MNIST, Cifar-10/100, Fashion-MNISTなど，手軽に学習可能な小規模なデータセットが簡単に利用できる<a href=\"https://keras.io/ja/datasets/\">datasetsモジュール群</a>が用意されています．\n",
    "\n",
    "初回実行時には，自動的にダウンロードが行われます．（ですので，Proxyが必要な環境では，事前に環境変数を設定する必要があります．)"
   ]
  },
  {
   "cell_type": "code",
   "execution_count": 2,
   "metadata": {},
   "outputs": [
    {
     "name": "stdout",
     "output_type": "stream",
     "text": [
      "((60000, 28, 28), (60000,))\n",
      "(0, 255)\n"
     ]
    }
   ],
   "source": [
    "#  mnist データの読み込み．初回実行時はダウンロードする．\n",
    "(x_train, y_train),(x_test,y_test) = keras.datasets.mnist.load_data()\n",
    "print(x_train.shape, y_train.shape)\n",
    "print(np.min(x_train),np.max(x_train))\n",
    "\n",
    "#[0,255]の値を[0,1]に正規化して，(サンプル数，高さ，幅，チャネル数)に変形\n",
    "# 畳み込み層入力用．\n",
    "x_train = x_train.reshape(60000,28,28,1).astype('float32') / 255.0\n",
    "x_test = x_test.reshape(10000,28,28,1).astype('float32') / 255.0\n",
    "\n",
    "# 28x28の画像を全結合入力用に，784次元にベクトル化．(サンプル数，784次元)\n",
    "X_train = x_train.reshape(60000,784).astype('float32')\n",
    "X_test = x_test.reshape(10000,784).astype('float32')\n",
    "\n",
    "# 1 of Kのベクトルに変換\n",
    "Y_train = keras.utils.to_categorical(y_train, 10)\n",
    "Y_test = keras.utils.to_categorical(y_test, 10)"
   ]
  },
  {
   "cell_type": "code",
   "execution_count": 3,
   "metadata": {},
   "outputs": [
    {
     "data": {
      "image/png": "[encoded data removed]",
      "text/plain": [
       "<matplotlib.figure.Figure at 0x7f6a90233650>"
      ]
     },
     "metadata": {},
     "output_type": "display_data"
    }
   ],
   "source": [
    "#MNISTデータの表示\n",
    "fig = plt.figure(figsize=(10, 3))\n",
    "for i in range(30):\n",
    "    ax = fig.add_subplot(3, 10, i + 1, xticks=[], yticks=[])\n",
    "    idx= y_train==i %10\n",
    "    X=X_train[idx]\n",
    "    ax.imshow(X[i//10].reshape((28, 28)), cmap='gray')"
   ]
  },
  {
   "cell_type": "code",
   "execution_count": 4,
   "metadata": {
    "collapsed": true
   },
   "outputs": [],
   "source": [
    "from keras.models import Sequential\n",
    "from keras.layers import Dense, Conv2D, BatchNormalization, MaxPooling2D, Flatten, Dropout\n",
    "\n",
    "# まずは，全結合2層だけで，分類してみます．\n",
    "model = Sequential()\n",
    "model.add(Dense(30, input_dim=784, activation='relu'))\n",
    "model.add(Dense(30, activation='relu'))\n",
    "# model.add(Dropout(0.2))\n",
    "model.add(Dense(10, activation='softmax'))"
   ]
  },
  {
   "cell_type": "code",
   "execution_count": 5,
   "metadata": {
    "collapsed": true
   },
   "outputs": [],
   "source": [
    "from keras.optimizers import SGD\n",
    "\n",
    "# MomentumSDGを使う．\n",
    "model.compile(loss=\"categorical_crossentropy\", \n",
    "              optimizer=SGD(lr=0.01, momentum=0.9),\n",
    "              metrics=[\"accuracy\"])"
   ]
  },
  {
   "cell_type": "markdown",
   "metadata": {},
   "source": [
    "学習中の経過のグラフ表示用にcallback用のShowGraphクラスを用意します．（ここは中身の理解不要．）"
   ]
  },
  {
   "cell_type": "code",
   "execution_count": 6,
   "metadata": {
    "collapsed": true
   },
   "outputs": [],
   "source": [
    "# callback のクラス ShowGraphを定義\n",
    "class ShowGraph(keras.callbacks.Callback):\n",
    "    def __init__(self,max_epoch):\n",
    "        # 表示エリアの設定\n",
    "        self.fig=plt.figure()\n",
    "        self.fig1 = self.fig.add_subplot(121)\n",
    "        self.fig1.axis([0, max_epoch, 0.9, 1.0])\n",
    "        self.fig1.set_title('accuracy')\n",
    "        self.fig1.set_ylabel('accuracy')\n",
    "        self.fig1.set_xlabel('epoch')\n",
    "        self.fig2 = self.fig.add_subplot(122)\n",
    "        self.fig2.axis([0, max_epoch, 0, 0.3 ])\n",
    "        self.fig2.set_title('loss')\n",
    "        self.fig2.set_ylabel('loss')\n",
    "        self.fig2.set_xlabel('epoch')\n",
    "        self.max_epoch=max_epoch\n",
    "        self.start=time.time()\n",
    "    \n",
    "    # 学習の最初に呼び出される\n",
    "    def on_train_begin(self, logs={}):\n",
    "        self.losses=[]\n",
    "        self.losses_val=[]\n",
    "        self.acc=[]\n",
    "        self.acc_val=[]\n",
    "        self.n_epoch=[]\n",
    "    \n",
    "    # 各epochの最後に呼び出される\n",
    "    def on_epoch_end(self, epoch, logs={}):\n",
    "        self.n_epoch.append(epoch)\n",
    "        self.acc.append(logs.get('acc'))\n",
    "        self.acc_val.append(logs.get('val_acc'))     \n",
    "        self.losses.append(logs.get('loss'))\n",
    "        self.losses_val.append(logs.get('val_loss'))     \n",
    "        self.test_acc=logs.get('val_acc')\n",
    "    \n",
    "        display.clear_output(wait = True)\n",
    "        self.fig1.plot(self.n_epoch,self.acc,\"b\")\n",
    "        self.fig1.plot(self.n_epoch,self.acc_val,\"r\")\n",
    "        self.fig1.legend(['train', 'test'], loc='upper left')\n",
    "        self.fig2.plot(self.n_epoch,self.losses,\"b\")\n",
    "        self.fig2.plot(self.n_epoch,self.losses_val,\"r\")\n",
    "        self.fig2.legend(['train', 'test'], loc='upper right')\n",
    "        display.display(self.fig)\n",
    "        \n",
    "    # デストラクタ(オブジェクトが消滅時に実行される)  \n",
    "    # グラフが２つ表示されるのを防止．さらに最終val acc値の表示．\n",
    "    def __del__(self):\n",
    "        display.clear_output(wait = True)\n",
    "        print(\"val_acc: \",self.test_acc) \n",
    "        print('Time: ',time.time()-self.start)"
   ]
  },
  {
   "cell_type": "markdown",
   "metadata": {},
   "source": [
    "エポック30, バッチサイズ100とする．"
   ]
  },
  {
   "cell_type": "markdown",
   "metadata": {},
   "source": [
    "さらに，kerasの便利機能の1つの，指定したエポックだけlossが改善しなかったら，学習率を下げる callback の <a href=\"https://keras.io/ja/callbacks/#reducelronplateau\">ReduceLROnPlateau</a> をここでは導入してみます．\n",
    "```\n",
    "reduce_lr = ReduceLROnPlateau(monitor='val_loss', factor=0.1,patience=5, min_lr=0.0001)\n",
    "```\n",
    "としてみます．5epoch改善しなかったら，学習率を1/10にして，0.0001を学習率の下限とします．\n",
    "(なお，Adamのような自動学習率調整機能がある最適化手法とは，通常は同時には使わないので注意してください．)"
   ]
  },
  {
   "cell_type": "code",
   "execution_count": 7,
   "metadata": {},
   "outputs": [
    {
     "name": "stdout",
     "output_type": "stream",
     "text": [
      "('val_acc: ', 0.97069998443126682)\n",
      "('Time: ', 55.613446950912476)\n"
     ]
    },
    {
     "data": {
      "image/png": "[encoded data removed]",
      "text/plain": [
       "<matplotlib.figure.Figure at 0x7f6a5c215450>"
      ]
     },
     "metadata": {},
     "output_type": "display_data"
    }
   ],
   "source": [
    "num_epoch=30\n",
    "show_graph=ShowGraph(num_epoch)\n",
    "reduce_lr =keras.callbacks.ReduceLROnPlateau(monitor='val_loss', factor=0.1,patience=5, min_lr=0.0001)\n",
    "# history = model.fit(X_train, Y_train, epochs=num_epoch+1, validation_data=(X_test,Y_test), batch_size=100, verbose=0, callbacks=[show_graph])\n",
    "history = model.fit(X_train, Y_train, epochs=num_epoch+1, validation_data=(X_test,Y_test), batch_size=100, verbose=0, callbacks=[show_graph,reduce_lr])\n",
    "del show_graph"
   ]
  },
  {
   "cell_type": "code",
   "execution_count": 8,
   "metadata": {
    "collapsed": true
   },
   "outputs": [],
   "source": [
    "model2 = Sequential()\n",
    "model2.add(Conv2D(30, 3, padding='same', activation='relu', input_shape=(28, 28, 1), kernel_initializer='he_normal'))\n",
    "model2.add(Dropout(0.5))\n",
    "model2.add(BatchNormalization())\n",
    "model2.add(MaxPooling2D(pool_size=(2, 2)))\n",
    "model2.add(Conv2D(30, 3, padding='same', activation='relu', kernel_initializer='he_normal'))\n",
    "model2.add(Dropout(0.5))\n",
    "model2.add(BatchNormalization())\n",
    "model2.add(Flatten()) # Keras の場合，conv から dense に移行する時には，テンソルをベクトルに変換する操作(Flatten)が必要です．\n",
    "model2.add(Dense(10, activation='softmax'))"
   ]
  },
  {
   "cell_type": "code",
   "execution_count": 9,
   "metadata": {
    "collapsed": true
   },
   "outputs": [],
   "source": [
    "model2.compile(loss=\"categorical_crossentropy\", \n",
    "              optimizer=SGD(lr=0.01, momentum=0.9),\n",
    "              metrics=[\"accuracy\"])"
   ]
  },
  {
   "cell_type": "code",
   "execution_count": 10,
   "metadata": {},
   "outputs": [
    {
     "name": "stdout",
     "output_type": "stream",
     "text": [
      "('val_acc: ', 0.99209997892379764)\n",
      "('Time: ', 273.2559950351715)\n"
     ]
    },
    {
     "data": {
      "image/png": "[encoded data removed]",
      "text/plain": [
       "<matplotlib.figure.Figure at 0x7f6a10a20c90>"
      ]
     },
     "metadata": {},
     "output_type": "display_data"
    }
   ],
   "source": [
    "num_epoch=30\n",
    "show_graph2=ShowGraph(num_epoch)\n",
    "reduce_lr2 =keras.callbacks.ReduceLROnPlateau(monitor='val_loss', factor=0.1,patience=5, min_lr=0.0001)\n",
    "history2 = model2.fit(x_train, Y_train, epochs=num_epoch+1, validation_data=(x_test,Y_test), batch_size=100, verbose=0, callbacks=[show_graph2, reduce_lr2])\n",
    "del show_graph2"
   ]
  },
  {
   "cell_type": "markdown",
   "metadata": {},
   "source": [
    "### 課題3\n",
    "以下の小問の(1)-(3)を解答すること．(4）は任意回答．\n",
    "\n",
    "1. 全結合のみ(30, 30, 10)のmodel, 畳み込み(30, 30)＋全結合(10)のmodel2 のそれぞれのパラメータ数(Wのみ，バイアスは除く）を計算し，全結合と畳み込みの違いをパラメータ数と認識性能の観点から考察せよ．\n",
    "1. 学習のaccuracy/lossのグラフで青線(training), 赤線(validation)が乖離すると，過学習になっているとみなすことができる．それを解決するために，全結合のみのmodel, 畳み込み＋全結合のmodel2 のそれぞれにDropoutを追加するとどうなるか実験せよ．なお，modelには，2番目の全結合の後に0.2の割合で，model2には2つの畳み込みの直後に割合0.5でそれぞれ挿入せよ．(コメントアウトしてある行の # をとればよい．) (全結合はパラメータが多いので，0.5の割合で挿入する場合は epoch数を増やさないと十分に学習ができない．興味があれば試してみよ．)\n",
    "1. model2に BatchNormalizationを追加せよ．その際，Dropoutを使ったほうがいいか，使わないほうがいいか比較せよ．\n",
    "1. OptimizerをAdamに変更して，MomentumSDGとの結果の違いを観察せよ．"
   ]
  },
  {
   "cell_type": "code",
   "execution_count": 11,
   "metadata": {},
   "outputs": [
    {
     "data": {
      "image/svg+xml": [
       "<svg height=\"308pt\" viewBox=\"0.00 0.00 308.00 308.00\" width=\"308pt\" xmlns=\"http://www.w3.org/2000/svg\" xmlns:xlink=\"http://www.w3.org/1999/xlink\">\n",
       "<g class=\"graph\" id=\"graph0\" transform=\"scale(1 1) rotate(0) translate(4 304)\">\n",
       "<title>G</title>\n",
       "<polygon fill=\"white\" points=\"-4,4 -4,-304 304,-304 304,4 -4,4\" stroke=\"none\"/>\n",
       "<!-- 140095132019152 -->\n",
       "<g class=\"node\" id=\"node1\"><title>140095132019152</title>\n",
       "<polygon fill=\"none\" points=\"-0.5,-253 -0.5,-299 300.5,-299 300.5,-253 -0.5,-253\" stroke=\"black\"/>\n",
       "<text font-family=\"Times,serif\" font-size=\"14.00\" text-anchor=\"middle\" x=\"81\" y=\"-272.3\">dense_1_input: InputLayer</text>\n",
       "<polyline fill=\"none\" points=\"162.5,-253 162.5,-299 \" stroke=\"black\"/>\n",
       "<text font-family=\"Times,serif\" font-size=\"14.00\" text-anchor=\"middle\" x=\"190\" y=\"-283.8\">input:</text>\n",
       "<polyline fill=\"none\" points=\"162.5,-276 217.5,-276 \" stroke=\"black\"/>\n",
       "<text font-family=\"Times,serif\" font-size=\"14.00\" text-anchor=\"middle\" x=\"190\" y=\"-260.8\">output:</text>\n",
       "<polyline fill=\"none\" points=\"217.5,-253 217.5,-299 \" stroke=\"black\"/>\n",
       "<text font-family=\"Times,serif\" font-size=\"14.00\" text-anchor=\"middle\" x=\"259\" y=\"-283.8\">(None, 784)</text>\n",
       "<polyline fill=\"none\" points=\"217.5,-276 300.5,-276 \" stroke=\"black\"/>\n",
       "<text font-family=\"Times,serif\" font-size=\"14.00\" text-anchor=\"middle\" x=\"259\" y=\"-260.8\">(None, 784)</text>\n",
       "</g>\n",
       "<!-- 140095132499664 -->\n",
       "<g class=\"node\" id=\"node2\"><title>140095132499664</title>\n",
       "<polygon fill=\"none\" points=\"30,-169 30,-215 270,-215 270,-169 30,-169\" stroke=\"black\"/>\n",
       "<text font-family=\"Times,serif\" font-size=\"14.00\" text-anchor=\"middle\" x=\"81\" y=\"-188.3\">dense_1: Dense</text>\n",
       "<polyline fill=\"none\" points=\"132,-169 132,-215 \" stroke=\"black\"/>\n",
       "<text font-family=\"Times,serif\" font-size=\"14.00\" text-anchor=\"middle\" x=\"159.5\" y=\"-199.8\">input:</text>\n",
       "<polyline fill=\"none\" points=\"132,-192 187,-192 \" stroke=\"black\"/>\n",
       "<text font-family=\"Times,serif\" font-size=\"14.00\" text-anchor=\"middle\" x=\"159.5\" y=\"-176.8\">output:</text>\n",
       "<polyline fill=\"none\" points=\"187,-169 187,-215 \" stroke=\"black\"/>\n",
       "<text font-family=\"Times,serif\" font-size=\"14.00\" text-anchor=\"middle\" x=\"228.5\" y=\"-199.8\">(None, 784)</text>\n",
       "<polyline fill=\"none\" points=\"187,-192 270,-192 \" stroke=\"black\"/>\n",
       "<text font-family=\"Times,serif\" font-size=\"14.00\" text-anchor=\"middle\" x=\"228.5\" y=\"-176.8\">(None, 30)</text>\n",
       "</g>\n",
       "<!-- 140095132019152&#45;&gt;140095132499664 -->\n",
       "<g class=\"edge\" id=\"edge1\"><title>140095132019152-&gt;140095132499664</title>\n",
       "<path d=\"M150,-252.593C150,-244.118 150,-234.297 150,-225.104\" fill=\"none\" stroke=\"black\"/>\n",
       "<polygon fill=\"black\" points=\"153.5,-225.096 150,-215.096 146.5,-225.096 153.5,-225.096\" stroke=\"black\"/>\n",
       "</g>\n",
       "<!-- 140095132465232 -->\n",
       "<g class=\"node\" id=\"node3\"><title>140095132465232</title>\n",
       "<polygon fill=\"none\" points=\"33.5,-85 33.5,-131 266.5,-131 266.5,-85 33.5,-85\" stroke=\"black\"/>\n",
       "<text font-family=\"Times,serif\" font-size=\"14.00\" text-anchor=\"middle\" x=\"84.5\" y=\"-104.3\">dense_2: Dense</text>\n",
       "<polyline fill=\"none\" points=\"135.5,-85 135.5,-131 \" stroke=\"black\"/>\n",
       "<text font-family=\"Times,serif\" font-size=\"14.00\" text-anchor=\"middle\" x=\"163\" y=\"-115.8\">input:</text>\n",
       "<polyline fill=\"none\" points=\"135.5,-108 190.5,-108 \" stroke=\"black\"/>\n",
       "<text font-family=\"Times,serif\" font-size=\"14.00\" text-anchor=\"middle\" x=\"163\" y=\"-92.8\">output:</text>\n",
       "<polyline fill=\"none\" points=\"190.5,-85 190.5,-131 \" stroke=\"black\"/>\n",
       "<text font-family=\"Times,serif\" font-size=\"14.00\" text-anchor=\"middle\" x=\"228.5\" y=\"-115.8\">(None, 30)</text>\n",
       "<polyline fill=\"none\" points=\"190.5,-108 266.5,-108 \" stroke=\"black\"/>\n",
       "<text font-family=\"Times,serif\" font-size=\"14.00\" text-anchor=\"middle\" x=\"228.5\" y=\"-92.8\">(None, 30)</text>\n",
       "</g>\n",
       "<!-- 140095132499664&#45;&gt;140095132465232 -->\n",
       "<g class=\"edge\" id=\"edge2\"><title>140095132499664-&gt;140095132465232</title>\n",
       "<path d=\"M150,-168.593C150,-160.118 150,-150.297 150,-141.104\" fill=\"none\" stroke=\"black\"/>\n",
       "<polygon fill=\"black\" points=\"153.5,-141.096 150,-131.096 146.5,-141.096 153.5,-141.096\" stroke=\"black\"/>\n",
       "</g>\n",
       "<!-- 140095132464976 -->\n",
       "<g class=\"node\" id=\"node4\"><title>140095132464976</title>\n",
       "<polygon fill=\"none\" points=\"33.5,-1 33.5,-47 266.5,-47 266.5,-1 33.5,-1\" stroke=\"black\"/>\n",
       "<text font-family=\"Times,serif\" font-size=\"14.00\" text-anchor=\"middle\" x=\"84.5\" y=\"-20.3\">dense_3: Dense</text>\n",
       "<polyline fill=\"none\" points=\"135.5,-1 135.5,-47 \" stroke=\"black\"/>\n",
       "<text font-family=\"Times,serif\" font-size=\"14.00\" text-anchor=\"middle\" x=\"163\" y=\"-31.8\">input:</text>\n",
       "<polyline fill=\"none\" points=\"135.5,-24 190.5,-24 \" stroke=\"black\"/>\n",
       "<text font-family=\"Times,serif\" font-size=\"14.00\" text-anchor=\"middle\" x=\"163\" y=\"-8.8\">output:</text>\n",
       "<polyline fill=\"none\" points=\"190.5,-1 190.5,-47 \" stroke=\"black\"/>\n",
       "<text font-family=\"Times,serif\" font-size=\"14.00\" text-anchor=\"middle\" x=\"228.5\" y=\"-31.8\">(None, 30)</text>\n",
       "<polyline fill=\"none\" points=\"190.5,-24 266.5,-24 \" stroke=\"black\"/>\n",
       "<text font-family=\"Times,serif\" font-size=\"14.00\" text-anchor=\"middle\" x=\"228.5\" y=\"-8.8\">(None, 10)</text>\n",
       "</g>\n",
       "<!-- 140095132465232&#45;&gt;140095132464976 -->\n",
       "<g class=\"edge\" id=\"edge3\"><title>140095132465232-&gt;140095132464976</title>\n",
       "<path d=\"M150,-84.5931C150,-76.1177 150,-66.2974 150,-57.104\" fill=\"none\" stroke=\"black\"/>\n",
       "<polygon fill=\"black\" points=\"153.5,-57.0958 150,-47.0959 146.5,-57.0959 153.5,-57.0958\" stroke=\"black\"/>\n",
       "</g>\n",
       "</g>\n",
       "</svg>"
      ],
      "text/plain": [
       "<IPython.core.display.SVG object>"
      ]
     },
     "execution_count": 11,
     "metadata": {},
     "output_type": "execute_result"
    }
   ],
   "source": [
    "# 最初のmodel の表示\n",
    "from IPython.display import SVG\n",
    "from keras.utils.vis_utils import model_to_dot\n",
    "SVG(model_to_dot(model, show_shapes=True, show_layer_names=True).create(prog='dot', format='svg'))"
   ]
  },
  {
   "cell_type": "code",
   "execution_count": 12,
   "metadata": {},
   "outputs": [
    {
     "data": {
      "image/svg+xml": [
       "<svg height=\"812pt\" viewBox=\"0.00 0.00 440.00 812.00\" width=\"440pt\" xmlns=\"http://www.w3.org/2000/svg\" xmlns:xlink=\"http://www.w3.org/1999/xlink\">\n",
       "<g class=\"graph\" id=\"graph0\" transform=\"scale(1 1) rotate(0) translate(4 808)\">\n",
       "<title>G</title>\n",
       "<polygon fill=\"white\" points=\"-4,4 -4,-808 436,-808 436,4 -4,4\" stroke=\"none\"/>\n",
       "<!-- 140093535770704 -->\n",
       "<g class=\"node\" id=\"node1\"><title>140093535770704</title>\n",
       "<polygon fill=\"none\" points=\"47,-757 47,-803 385,-803 385,-757 47,-757\" stroke=\"black\"/>\n",
       "<text font-family=\"Times,serif\" font-size=\"14.00\" text-anchor=\"middle\" x=\"133\" y=\"-776.3\">conv2d_1_input: InputLayer</text>\n",
       "<polyline fill=\"none\" points=\"219,-757 219,-803 \" stroke=\"black\"/>\n",
       "<text font-family=\"Times,serif\" font-size=\"14.00\" text-anchor=\"middle\" x=\"246.5\" y=\"-787.8\">input:</text>\n",
       "<polyline fill=\"none\" points=\"219,-780 274,-780 \" stroke=\"black\"/>\n",
       "<text font-family=\"Times,serif\" font-size=\"14.00\" text-anchor=\"middle\" x=\"246.5\" y=\"-764.8\">output:</text>\n",
       "<polyline fill=\"none\" points=\"274,-757 274,-803 \" stroke=\"black\"/>\n",
       "<text font-family=\"Times,serif\" font-size=\"14.00\" text-anchor=\"middle\" x=\"329.5\" y=\"-787.8\">(None, 28, 28, 1)</text>\n",
       "<polyline fill=\"none\" points=\"274,-780 385,-780 \" stroke=\"black\"/>\n",
       "<text font-family=\"Times,serif\" font-size=\"14.00\" text-anchor=\"middle\" x=\"329.5\" y=\"-764.8\">(None, 28, 28, 1)</text>\n",
       "</g>\n",
       "<!-- 140093535769616 -->\n",
       "<g class=\"node\" id=\"node2\"><title>140093535769616</title>\n",
       "<polygon fill=\"none\" points=\"68,-673 68,-719 364,-719 364,-673 68,-673\" stroke=\"black\"/>\n",
       "<text font-family=\"Times,serif\" font-size=\"14.00\" text-anchor=\"middle\" x=\"129.5\" y=\"-692.3\">conv2d_1: Conv2D</text>\n",
       "<polyline fill=\"none\" points=\"191,-673 191,-719 \" stroke=\"black\"/>\n",
       "<text font-family=\"Times,serif\" font-size=\"14.00\" text-anchor=\"middle\" x=\"218.5\" y=\"-703.8\">input:</text>\n",
       "<polyline fill=\"none\" points=\"191,-696 246,-696 \" stroke=\"black\"/>\n",
       "<text font-family=\"Times,serif\" font-size=\"14.00\" text-anchor=\"middle\" x=\"218.5\" y=\"-680.8\">output:</text>\n",
       "<polyline fill=\"none\" points=\"246,-673 246,-719 \" stroke=\"black\"/>\n",
       "<text font-family=\"Times,serif\" font-size=\"14.00\" text-anchor=\"middle\" x=\"305\" y=\"-703.8\">(None, 28, 28, 1)</text>\n",
       "<polyline fill=\"none\" points=\"246,-696 364,-696 \" stroke=\"black\"/>\n",
       "<text font-family=\"Times,serif\" font-size=\"14.00\" text-anchor=\"middle\" x=\"305\" y=\"-680.8\">(None, 28, 28, 30)</text>\n",
       "</g>\n",
       "<!-- 140093535770704&#45;&gt;140093535769616 -->\n",
       "<g class=\"edge\" id=\"edge1\"><title>140093535770704-&gt;140093535769616</title>\n",
       "<path d=\"M216,-756.593C216,-748.118 216,-738.297 216,-729.104\" fill=\"none\" stroke=\"black\"/>\n",
       "<polygon fill=\"black\" points=\"219.5,-729.096 216,-719.096 212.5,-729.096 219.5,-729.096\" stroke=\"black\"/>\n",
       "</g>\n",
       "<!-- 140093535772048 -->\n",
       "<g class=\"node\" id=\"node3\"><title>140093535772048</title>\n",
       "<polygon fill=\"none\" points=\"67,-589 67,-635 365,-635 365,-589 67,-589\" stroke=\"black\"/>\n",
       "<text font-family=\"Times,serif\" font-size=\"14.00\" text-anchor=\"middle\" x=\"129.5\" y=\"-608.3\">dropout_1: Dropout</text>\n",
       "<polyline fill=\"none\" points=\"192,-589 192,-635 \" stroke=\"black\"/>\n",
       "<text font-family=\"Times,serif\" font-size=\"14.00\" text-anchor=\"middle\" x=\"219.5\" y=\"-619.8\">input:</text>\n",
       "<polyline fill=\"none\" points=\"192,-612 247,-612 \" stroke=\"black\"/>\n",
       "<text font-family=\"Times,serif\" font-size=\"14.00\" text-anchor=\"middle\" x=\"219.5\" y=\"-596.8\">output:</text>\n",
       "<polyline fill=\"none\" points=\"247,-589 247,-635 \" stroke=\"black\"/>\n",
       "<text font-family=\"Times,serif\" font-size=\"14.00\" text-anchor=\"middle\" x=\"306\" y=\"-619.8\">(None, 28, 28, 30)</text>\n",
       "<polyline fill=\"none\" points=\"247,-612 365,-612 \" stroke=\"black\"/>\n",
       "<text font-family=\"Times,serif\" font-size=\"14.00\" text-anchor=\"middle\" x=\"306\" y=\"-596.8\">(None, 28, 28, 30)</text>\n",
       "</g>\n",
       "<!-- 140093535769616&#45;&gt;140093535772048 -->\n",
       "<g class=\"edge\" id=\"edge2\"><title>140093535769616-&gt;140093535772048</title>\n",
       "<path d=\"M216,-672.593C216,-664.118 216,-654.297 216,-645.104\" fill=\"none\" stroke=\"black\"/>\n",
       "<polygon fill=\"black\" points=\"219.5,-645.096 216,-635.096 212.5,-645.096 219.5,-645.096\" stroke=\"black\"/>\n",
       "</g>\n",
       "<!-- 140093535770320 -->\n",
       "<g class=\"node\" id=\"node4\"><title>140093535770320</title>\n",
       "<polygon fill=\"none\" points=\"-0.5,-505 -0.5,-551 432.5,-551 432.5,-505 -0.5,-505\" stroke=\"black\"/>\n",
       "<text font-family=\"Times,serif\" font-size=\"14.00\" text-anchor=\"middle\" x=\"129.5\" y=\"-524.3\">batch_normalization_1: BatchNormalization</text>\n",
       "<polyline fill=\"none\" points=\"259.5,-505 259.5,-551 \" stroke=\"black\"/>\n",
       "<text font-family=\"Times,serif\" font-size=\"14.00\" text-anchor=\"middle\" x=\"287\" y=\"-535.8\">input:</text>\n",
       "<polyline fill=\"none\" points=\"259.5,-528 314.5,-528 \" stroke=\"black\"/>\n",
       "<text font-family=\"Times,serif\" font-size=\"14.00\" text-anchor=\"middle\" x=\"287\" y=\"-512.8\">output:</text>\n",
       "<polyline fill=\"none\" points=\"314.5,-505 314.5,-551 \" stroke=\"black\"/>\n",
       "<text font-family=\"Times,serif\" font-size=\"14.00\" text-anchor=\"middle\" x=\"373.5\" y=\"-535.8\">(None, 28, 28, 30)</text>\n",
       "<polyline fill=\"none\" points=\"314.5,-528 432.5,-528 \" stroke=\"black\"/>\n",
       "<text font-family=\"Times,serif\" font-size=\"14.00\" text-anchor=\"middle\" x=\"373.5\" y=\"-512.8\">(None, 28, 28, 30)</text>\n",
       "</g>\n",
       "<!-- 140093535772048&#45;&gt;140093535770320 -->\n",
       "<g class=\"edge\" id=\"edge3\"><title>140093535772048-&gt;140093535770320</title>\n",
       "<path d=\"M216,-588.593C216,-580.118 216,-570.297 216,-561.104\" fill=\"none\" stroke=\"black\"/>\n",
       "<polygon fill=\"black\" points=\"219.5,-561.096 216,-551.096 212.5,-561.096 219.5,-561.096\" stroke=\"black\"/>\n",
       "</g>\n",
       "<!-- 140093535865680 -->\n",
       "<g class=\"node\" id=\"node5\"><title>140093535865680</title>\n",
       "<polygon fill=\"none\" points=\"26,-421 26,-467 406,-467 406,-421 26,-421\" stroke=\"black\"/>\n",
       "<text font-family=\"Times,serif\" font-size=\"14.00\" text-anchor=\"middle\" x=\"129.5\" y=\"-440.3\">max_pooling2d_1: MaxPooling2D</text>\n",
       "<polyline fill=\"none\" points=\"233,-421 233,-467 \" stroke=\"black\"/>\n",
       "<text font-family=\"Times,serif\" font-size=\"14.00\" text-anchor=\"middle\" x=\"260.5\" y=\"-451.8\">input:</text>\n",
       "<polyline fill=\"none\" points=\"233,-444 288,-444 \" stroke=\"black\"/>\n",
       "<text font-family=\"Times,serif\" font-size=\"14.00\" text-anchor=\"middle\" x=\"260.5\" y=\"-428.8\">output:</text>\n",
       "<polyline fill=\"none\" points=\"288,-421 288,-467 \" stroke=\"black\"/>\n",
       "<text font-family=\"Times,serif\" font-size=\"14.00\" text-anchor=\"middle\" x=\"347\" y=\"-451.8\">(None, 28, 28, 30)</text>\n",
       "<polyline fill=\"none\" points=\"288,-444 406,-444 \" stroke=\"black\"/>\n",
       "<text font-family=\"Times,serif\" font-size=\"14.00\" text-anchor=\"middle\" x=\"347\" y=\"-428.8\">(None, 14, 14, 30)</text>\n",
       "</g>\n",
       "<!-- 140093535770320&#45;&gt;140093535865680 -->\n",
       "<g class=\"edge\" id=\"edge4\"><title>140093535770320-&gt;140093535865680</title>\n",
       "<path d=\"M216,-504.593C216,-496.118 216,-486.297 216,-477.104\" fill=\"none\" stroke=\"black\"/>\n",
       "<polygon fill=\"black\" points=\"219.5,-477.096 216,-467.096 212.5,-477.096 219.5,-477.096\" stroke=\"black\"/>\n",
       "</g>\n",
       "<!-- 140093535770768 -->\n",
       "<g class=\"node\" id=\"node6\"><title>140093535770768</title>\n",
       "<polygon fill=\"none\" points=\"68,-337 68,-383 364,-383 364,-337 68,-337\" stroke=\"black\"/>\n",
       "<text font-family=\"Times,serif\" font-size=\"14.00\" text-anchor=\"middle\" x=\"129.5\" y=\"-356.3\">conv2d_2: Conv2D</text>\n",
       "<polyline fill=\"none\" points=\"191,-337 191,-383 \" stroke=\"black\"/>\n",
       "<text font-family=\"Times,serif\" font-size=\"14.00\" text-anchor=\"middle\" x=\"218.5\" y=\"-367.8\">input:</text>\n",
       "<polyline fill=\"none\" points=\"191,-360 246,-360 \" stroke=\"black\"/>\n",
       "<text font-family=\"Times,serif\" font-size=\"14.00\" text-anchor=\"middle\" x=\"218.5\" y=\"-344.8\">output:</text>\n",
       "<polyline fill=\"none\" points=\"246,-337 246,-383 \" stroke=\"black\"/>\n",
       "<text font-family=\"Times,serif\" font-size=\"14.00\" text-anchor=\"middle\" x=\"305\" y=\"-367.8\">(None, 14, 14, 30)</text>\n",
       "<polyline fill=\"none\" points=\"246,-360 364,-360 \" stroke=\"black\"/>\n",
       "<text font-family=\"Times,serif\" font-size=\"14.00\" text-anchor=\"middle\" x=\"305\" y=\"-344.8\">(None, 14, 14, 30)</text>\n",
       "</g>\n",
       "<!-- 140093535865680&#45;&gt;140093535770768 -->\n",
       "<g class=\"edge\" id=\"edge5\"><title>140093535865680-&gt;140093535770768</title>\n",
       "<path d=\"M216,-420.593C216,-412.118 216,-402.297 216,-393.104\" fill=\"none\" stroke=\"black\"/>\n",
       "<polygon fill=\"black\" points=\"219.5,-393.096 216,-383.096 212.5,-393.096 219.5,-393.096\" stroke=\"black\"/>\n",
       "</g>\n",
       "<!-- 140093535076688 -->\n",
       "<g class=\"node\" id=\"node7\"><title>140093535076688</title>\n",
       "<polygon fill=\"none\" points=\"67,-253 67,-299 365,-299 365,-253 67,-253\" stroke=\"black\"/>\n",
       "<text font-family=\"Times,serif\" font-size=\"14.00\" text-anchor=\"middle\" x=\"129.5\" y=\"-272.3\">dropout_2: Dropout</text>\n",
       "<polyline fill=\"none\" points=\"192,-253 192,-299 \" stroke=\"black\"/>\n",
       "<text font-family=\"Times,serif\" font-size=\"14.00\" text-anchor=\"middle\" x=\"219.5\" y=\"-283.8\">input:</text>\n",
       "<polyline fill=\"none\" points=\"192,-276 247,-276 \" stroke=\"black\"/>\n",
       "<text font-family=\"Times,serif\" font-size=\"14.00\" text-anchor=\"middle\" x=\"219.5\" y=\"-260.8\">output:</text>\n",
       "<polyline fill=\"none\" points=\"247,-253 247,-299 \" stroke=\"black\"/>\n",
       "<text font-family=\"Times,serif\" font-size=\"14.00\" text-anchor=\"middle\" x=\"306\" y=\"-283.8\">(None, 14, 14, 30)</text>\n",
       "<polyline fill=\"none\" points=\"247,-276 365,-276 \" stroke=\"black\"/>\n",
       "<text font-family=\"Times,serif\" font-size=\"14.00\" text-anchor=\"middle\" x=\"306\" y=\"-260.8\">(None, 14, 14, 30)</text>\n",
       "</g>\n",
       "<!-- 140093535770768&#45;&gt;140093535076688 -->\n",
       "<g class=\"edge\" id=\"edge6\"><title>140093535770768-&gt;140093535076688</title>\n",
       "<path d=\"M216,-336.593C216,-328.118 216,-318.297 216,-309.104\" fill=\"none\" stroke=\"black\"/>\n",
       "<polygon fill=\"black\" points=\"219.5,-309.096 216,-299.096 212.5,-309.096 219.5,-309.096\" stroke=\"black\"/>\n",
       "</g>\n",
       "<!-- 140093523734416 -->\n",
       "<g class=\"node\" id=\"node8\"><title>140093523734416</title>\n",
       "<polygon fill=\"none\" points=\"-0.5,-169 -0.5,-215 432.5,-215 432.5,-169 -0.5,-169\" stroke=\"black\"/>\n",
       "<text font-family=\"Times,serif\" font-size=\"14.00\" text-anchor=\"middle\" x=\"129.5\" y=\"-188.3\">batch_normalization_2: BatchNormalization</text>\n",
       "<polyline fill=\"none\" points=\"259.5,-169 259.5,-215 \" stroke=\"black\"/>\n",
       "<text font-family=\"Times,serif\" font-size=\"14.00\" text-anchor=\"middle\" x=\"287\" y=\"-199.8\">input:</text>\n",
       "<polyline fill=\"none\" points=\"259.5,-192 314.5,-192 \" stroke=\"black\"/>\n",
       "<text font-family=\"Times,serif\" font-size=\"14.00\" text-anchor=\"middle\" x=\"287\" y=\"-176.8\">output:</text>\n",
       "<polyline fill=\"none\" points=\"314.5,-169 314.5,-215 \" stroke=\"black\"/>\n",
       "<text font-family=\"Times,serif\" font-size=\"14.00\" text-anchor=\"middle\" x=\"373.5\" y=\"-199.8\">(None, 14, 14, 30)</text>\n",
       "<polyline fill=\"none\" points=\"314.5,-192 432.5,-192 \" stroke=\"black\"/>\n",
       "<text font-family=\"Times,serif\" font-size=\"14.00\" text-anchor=\"middle\" x=\"373.5\" y=\"-176.8\">(None, 14, 14, 30)</text>\n",
       "</g>\n",
       "<!-- 140093535076688&#45;&gt;140093523734416 -->\n",
       "<g class=\"edge\" id=\"edge7\"><title>140093535076688-&gt;140093523734416</title>\n",
       "<path d=\"M216,-252.593C216,-244.118 216,-234.297 216,-225.104\" fill=\"none\" stroke=\"black\"/>\n",
       "<polygon fill=\"black\" points=\"219.5,-225.096 216,-215.096 212.5,-225.096 219.5,-225.096\" stroke=\"black\"/>\n",
       "</g>\n",
       "<!-- 140093523732560 -->\n",
       "<g class=\"node\" id=\"node9\"><title>140093523732560</title>\n",
       "<polygon fill=\"none\" points=\"74.5,-85 74.5,-131 357.5,-131 357.5,-85 74.5,-85\" stroke=\"black\"/>\n",
       "<text font-family=\"Times,serif\" font-size=\"14.00\" text-anchor=\"middle\" x=\"129.5\" y=\"-104.3\">flatten_1: Flatten</text>\n",
       "<polyline fill=\"none\" points=\"184.5,-85 184.5,-131 \" stroke=\"black\"/>\n",
       "<text font-family=\"Times,serif\" font-size=\"14.00\" text-anchor=\"middle\" x=\"212\" y=\"-115.8\">input:</text>\n",
       "<polyline fill=\"none\" points=\"184.5,-108 239.5,-108 \" stroke=\"black\"/>\n",
       "<text font-family=\"Times,serif\" font-size=\"14.00\" text-anchor=\"middle\" x=\"212\" y=\"-92.8\">output:</text>\n",
       "<polyline fill=\"none\" points=\"239.5,-85 239.5,-131 \" stroke=\"black\"/>\n",
       "<text font-family=\"Times,serif\" font-size=\"14.00\" text-anchor=\"middle\" x=\"298.5\" y=\"-115.8\">(None, 14, 14, 30)</text>\n",
       "<polyline fill=\"none\" points=\"239.5,-108 357.5,-108 \" stroke=\"black\"/>\n",
       "<text font-family=\"Times,serif\" font-size=\"14.00\" text-anchor=\"middle\" x=\"298.5\" y=\"-92.8\">(None, 5880)</text>\n",
       "</g>\n",
       "<!-- 140093523734416&#45;&gt;140093523732560 -->\n",
       "<g class=\"edge\" id=\"edge8\"><title>140093523734416-&gt;140093523732560</title>\n",
       "<path d=\"M216,-168.593C216,-160.118 216,-150.297 216,-141.104\" fill=\"none\" stroke=\"black\"/>\n",
       "<polygon fill=\"black\" points=\"219.5,-141.096 216,-131.096 212.5,-141.096 219.5,-141.096\" stroke=\"black\"/>\n",
       "</g>\n",
       "<!-- 140093523432528 -->\n",
       "<g class=\"node\" id=\"node10\"><title>140093523432528</title>\n",
       "<polygon fill=\"none\" points=\"93,-1 93,-47 339,-47 339,-1 93,-1\" stroke=\"black\"/>\n",
       "<text font-family=\"Times,serif\" font-size=\"14.00\" text-anchor=\"middle\" x=\"144\" y=\"-20.3\">dense_4: Dense</text>\n",
       "<polyline fill=\"none\" points=\"195,-1 195,-47 \" stroke=\"black\"/>\n",
       "<text font-family=\"Times,serif\" font-size=\"14.00\" text-anchor=\"middle\" x=\"222.5\" y=\"-31.8\">input:</text>\n",
       "<polyline fill=\"none\" points=\"195,-24 250,-24 \" stroke=\"black\"/>\n",
       "<text font-family=\"Times,serif\" font-size=\"14.00\" text-anchor=\"middle\" x=\"222.5\" y=\"-8.8\">output:</text>\n",
       "<polyline fill=\"none\" points=\"250,-1 250,-47 \" stroke=\"black\"/>\n",
       "<text font-family=\"Times,serif\" font-size=\"14.00\" text-anchor=\"middle\" x=\"294.5\" y=\"-31.8\">(None, 5880)</text>\n",
       "<polyline fill=\"none\" points=\"250,-24 339,-24 \" stroke=\"black\"/>\n",
       "<text font-family=\"Times,serif\" font-size=\"14.00\" text-anchor=\"middle\" x=\"294.5\" y=\"-8.8\">(None, 10)</text>\n",
       "</g>\n",
       "<!-- 140093523732560&#45;&gt;140093523432528 -->\n",
       "<g class=\"edge\" id=\"edge9\"><title>140093523732560-&gt;140093523432528</title>\n",
       "<path d=\"M216,-84.5931C216,-76.1177 216,-66.2974 216,-57.104\" fill=\"none\" stroke=\"black\"/>\n",
       "<polygon fill=\"black\" points=\"219.5,-57.0958 216,-47.0959 212.5,-57.0959 219.5,-57.0958\" stroke=\"black\"/>\n",
       "</g>\n",
       "</g>\n",
       "</svg>"
      ],
      "text/plain": [
       "<IPython.core.display.SVG object>"
      ]
     },
     "execution_count": 12,
     "metadata": {},
     "output_type": "execute_result"
    }
   ],
   "source": [
    "# 2つ目のモデルの表示\n",
    "SVG(model_to_dot(model2, show_shapes=True, show_layer_names=True).create(prog='dot', format='svg'))"
   ]
  },
  {
   "cell_type": "markdown",
   "metadata": {},
   "source": [
    "### 結果と感想\n",
    "Dropoutを追加したところ、accuracyは0.2%向上したが、実行に1.1倍時間がかかっている。\n",
    "また、収束にかかるループ数も大幅に上昇していて、Dropoutは使用しないほうが良いと感じた。"
   ]
  }
 ],
 "metadata": {
  "kernelspec": {
   "display_name": "Python 2",
   "language": "python",
   "name": "python2"
  },
  "language_info": {
   "codemirror_mode": {
    "name": "ipython",
    "version": 2
   },
   "file_extension": ".py",
   "mimetype": "text/x-python",
   "name": "python",
   "nbconvert_exporter": "python",
   "pygments_lexer": "ipython2",
   "version": "2.7.6"
  }
 },
 "nbformat": 4,
 "nbformat_minor": 2
}
