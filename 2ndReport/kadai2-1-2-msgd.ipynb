{
 "cells": [
  {
   "cell_type": "markdown",
   "metadata": {},
   "source": [
    "# 【第２回目　課題１】Kerasを用いた深層学習 (1): 全結合編\n",
    "\n",
    "第2回目の課題１では，前回の課題1と同じ問題に対して，最も簡単な深層学習フレームワークと言われている<a href=\"https://keras.io/ja/\">Keras</a>を用いて，取り組んでみましょう．\n",
    "\n",
    "まずは，<a href=\"https://keras.io/ja/\">Kerasの公式日本語ドキュメント</a>を見てみましょう．\n",
    "\n",
    "Kerasには，<a href=\"https://keras.io/ja/getting-started/sequential-model-guide/\">Sequential model</a> と <a href=\"https://keras.io/ja/getting-started/functional-api-guide/\">Functional API </a>を使うの２つの書き方があります．\n",
    "\n",
    "レイヤーを単純につなげていくだけの簡単なモデルの場合は，Sequential model で十分ですので，今回はSequential model を使うことにします．"
   ]
  },
  {
   "cell_type": "markdown",
   "metadata": {},
   "source": [
    "課題としては，前回同様に\n",
    "全結合層＋ReLU＋2乗誤差関数 のネットワークを考えてみます．\n",
    "全結合層を使って任意の関数の近似を行います．"
   ]
  },
  {
   "cell_type": "markdown",
   "metadata": {},
   "source": [
    "最初に keras の実行に必要な モジュールを import します．\n",
    "Sequential, Denseは簡単に使えるように クラス単位でimportしておきます．\n",
    "numpyはデータの生成に必要なので，最初に指定します．"
   ]
  },
  {
   "cell_type": "code",
   "execution_count": 1,
   "metadata": {},
   "outputs": [
    {
     "name": "stderr",
     "output_type": "stream",
     "text": [
      "Using TensorFlow backend.\n",
      "using GPU: 0\n"
     ]
    }
   ],
   "source": [
    "import numpy as np\n",
    "import time\n",
    "\n",
    "import keras\n",
    "from keras.models import Sequential\n",
    "from keras.layers import Dense, Activation"
   ]
  },
  {
   "cell_type": "markdown",
   "metadata": {},
   "source": [
    "前回と違って，当然ですが，全結合層クラスはKearsに含まれているので，実装は不要です．\n",
    "Kerasでは，Dense が fcに相当します．\n",
    "```python\n",
    "from keras.layers import Dense\n",
    "```"
   ]
  },
  {
   "cell_type": "markdown",
   "metadata": {},
   "source": [
    "次に学習するネットワークを記述してみましょう．\n",
    "前回は以下のように1x10+ReLU +10x10+ReLU + 10x1 の３層となっていました．\n",
    "```python\n",
    "fc1=Fc(1,20)\n",
    "fc2=Fc(20,20)\n",
    "fc3=Fc(20,1,False)\n",
    "```\n",
    "\n",
    "なお，前回は，fcにはデフォルトでReluが付いていました．第３引数がFalseの時だけReluなしでした．\n",
    "\n",
    "まず，Sequential オブジェクトを作って，そこに，layer を add していきます．\n",
    "fc は Dense と表記します．ReLuが必要なは，activation='relu' のオプションを指定します．\n",
    "Denseの場合は，最初だけ入力次元を input_dim で指定しますが，そのあとは，前層の出力次元＝入力次元　ですので，省略して，出力次元のみを記述します．\n",
    "\n",
    "なお，Kerasでのパラメータ初期値の設定方法は，<a href=\"https://keras.io/ja/initializers/#glorot_uniform\">kernel_initializer='glorot_uniform'</a> となっています．Heの初期値がいい場合は，<a href=\"https://keras.io/ja/initializers/#he_normal\">kernel_initializer='he_normal'</a>と指定する必要があります．"
   ]
  },
  {
   "cell_type": "code",
   "execution_count": 2,
   "metadata": {
    "collapsed": true
   },
   "outputs": [],
   "source": [
    "model = Sequential()\n",
    "model.add(Dense(20, input_dim=1, activation='relu'))\n",
    "model.add(Dense(20, activation='relu'))\n",
    "model.add(Dense(1))"
   ]
  },
  {
   "cell_type": "markdown",
   "metadata": {},
   "source": [
    "Kerasでは，簡単に定義したネットワークを図で表示することができます．\n",
    "次のようにすると，modelの中身を表示できます．\n",
    "なお，\n",
    "```\n",
    "model.add(Dense(20, activation='relu'))\n",
    "```\n",
    "のようにDenseレイヤ中でオプションで指定した活性化関数は表示されません．\n",
    "\n",
    "表示したい場合は，\n",
    "```\n",
    "model.add(Dense(20))\n",
    "model.add(Activation('relu'))\n",
    "```\n",
    "のように別々にレイヤとして追加する必要があります．\n",
    "\n",
    "あと，データのinput/output shape が表示されていますが，\n",
    "最初の次元は batchsize を表していて，モデル定義時には未指定ですので，常に None と表示されます．"
   ]
  },
  {
   "cell_type": "code",
   "execution_count": 3,
   "metadata": {},
   "outputs": [
    {
     "data": {
      "image/svg+xml": [
       "<svg height=\"308pt\" viewBox=\"0.00 0.00 294.00 308.00\" width=\"294pt\" xmlns=\"http://www.w3.org/2000/svg\" xmlns:xlink=\"http://www.w3.org/1999/xlink\">\n",
       "<g class=\"graph\" id=\"graph0\" transform=\"scale(1 1) rotate(0) translate(4 304)\">\n",
       "<title>G</title>\n",
       "<polygon fill=\"white\" points=\"-4,4 -4,-304 290,-304 290,4 -4,4\" stroke=\"none\"/>\n",
       "<!-- 139654224586256 -->\n",
       "<g class=\"node\" id=\"node1\"><title>139654224586256</title>\n",
       "<polygon fill=\"none\" points=\"-0.5,-253 -0.5,-299 286.5,-299 286.5,-253 -0.5,-253\" stroke=\"black\"/>\n",
       "<text font-family=\"Times,serif\" font-size=\"14.00\" text-anchor=\"middle\" x=\"81\" y=\"-272.3\">dense_1_input: InputLayer</text>\n",
       "<polyline fill=\"none\" points=\"162.5,-253 162.5,-299 \" stroke=\"black\"/>\n",
       "<text font-family=\"Times,serif\" font-size=\"14.00\" text-anchor=\"middle\" x=\"190\" y=\"-283.8\">input:</text>\n",
       "<polyline fill=\"none\" points=\"162.5,-276 217.5,-276 \" stroke=\"black\"/>\n",
       "<text font-family=\"Times,serif\" font-size=\"14.00\" text-anchor=\"middle\" x=\"190\" y=\"-260.8\">output:</text>\n",
       "<polyline fill=\"none\" points=\"217.5,-253 217.5,-299 \" stroke=\"black\"/>\n",
       "<text font-family=\"Times,serif\" font-size=\"14.00\" text-anchor=\"middle\" x=\"252\" y=\"-283.8\">(None, 1)</text>\n",
       "<polyline fill=\"none\" points=\"217.5,-276 286.5,-276 \" stroke=\"black\"/>\n",
       "<text font-family=\"Times,serif\" font-size=\"14.00\" text-anchor=\"middle\" x=\"252\" y=\"-260.8\">(None, 1)</text>\n",
       "</g>\n",
       "<!-- 139654224586384 -->\n",
       "<g class=\"node\" id=\"node2\"><title>139654224586384</title>\n",
       "<polygon fill=\"none\" points=\"26.5,-169 26.5,-215 259.5,-215 259.5,-169 26.5,-169\" stroke=\"black\"/>\n",
       "<text font-family=\"Times,serif\" font-size=\"14.00\" text-anchor=\"middle\" x=\"77.5\" y=\"-188.3\">dense_1: Dense</text>\n",
       "<polyline fill=\"none\" points=\"128.5,-169 128.5,-215 \" stroke=\"black\"/>\n",
       "<text font-family=\"Times,serif\" font-size=\"14.00\" text-anchor=\"middle\" x=\"156\" y=\"-199.8\">input:</text>\n",
       "<polyline fill=\"none\" points=\"128.5,-192 183.5,-192 \" stroke=\"black\"/>\n",
       "<text font-family=\"Times,serif\" font-size=\"14.00\" text-anchor=\"middle\" x=\"156\" y=\"-176.8\">output:</text>\n",
       "<polyline fill=\"none\" points=\"183.5,-169 183.5,-215 \" stroke=\"black\"/>\n",
       "<text font-family=\"Times,serif\" font-size=\"14.00\" text-anchor=\"middle\" x=\"221.5\" y=\"-199.8\">(None, 1)</text>\n",
       "<polyline fill=\"none\" points=\"183.5,-192 259.5,-192 \" stroke=\"black\"/>\n",
       "<text font-family=\"Times,serif\" font-size=\"14.00\" text-anchor=\"middle\" x=\"221.5\" y=\"-176.8\">(None, 20)</text>\n",
       "</g>\n",
       "<!-- 139654224586256&#45;&gt;139654224586384 -->\n",
       "<g class=\"edge\" id=\"edge1\"><title>139654224586256-&gt;139654224586384</title>\n",
       "<path d=\"M143,-252.593C143,-244.118 143,-234.297 143,-225.104\" fill=\"none\" stroke=\"black\"/>\n",
       "<polygon fill=\"black\" points=\"146.5,-225.096 143,-215.096 139.5,-225.096 146.5,-225.096\" stroke=\"black\"/>\n",
       "</g>\n",
       "<!-- 139654224586448 -->\n",
       "<g class=\"node\" id=\"node3\"><title>139654224586448</title>\n",
       "<polygon fill=\"none\" points=\"26.5,-85 26.5,-131 259.5,-131 259.5,-85 26.5,-85\" stroke=\"black\"/>\n",
       "<text font-family=\"Times,serif\" font-size=\"14.00\" text-anchor=\"middle\" x=\"77.5\" y=\"-104.3\">dense_2: Dense</text>\n",
       "<polyline fill=\"none\" points=\"128.5,-85 128.5,-131 \" stroke=\"black\"/>\n",
       "<text font-family=\"Times,serif\" font-size=\"14.00\" text-anchor=\"middle\" x=\"156\" y=\"-115.8\">input:</text>\n",
       "<polyline fill=\"none\" points=\"128.5,-108 183.5,-108 \" stroke=\"black\"/>\n",
       "<text font-family=\"Times,serif\" font-size=\"14.00\" text-anchor=\"middle\" x=\"156\" y=\"-92.8\">output:</text>\n",
       "<polyline fill=\"none\" points=\"183.5,-85 183.5,-131 \" stroke=\"black\"/>\n",
       "<text font-family=\"Times,serif\" font-size=\"14.00\" text-anchor=\"middle\" x=\"221.5\" y=\"-115.8\">(None, 20)</text>\n",
       "<polyline fill=\"none\" points=\"183.5,-108 259.5,-108 \" stroke=\"black\"/>\n",
       "<text font-family=\"Times,serif\" font-size=\"14.00\" text-anchor=\"middle\" x=\"221.5\" y=\"-92.8\">(None, 20)</text>\n",
       "</g>\n",
       "<!-- 139654224586384&#45;&gt;139654224586448 -->\n",
       "<g class=\"edge\" id=\"edge2\"><title>139654224586384-&gt;139654224586448</title>\n",
       "<path d=\"M143,-168.593C143,-160.118 143,-150.297 143,-141.104\" fill=\"none\" stroke=\"black\"/>\n",
       "<polygon fill=\"black\" points=\"146.5,-141.096 143,-131.096 139.5,-141.096 146.5,-141.096\" stroke=\"black\"/>\n",
       "</g>\n",
       "<!-- 139654224588432 -->\n",
       "<g class=\"node\" id=\"node4\"><title>139654224588432</title>\n",
       "<polygon fill=\"none\" points=\"26.5,-1 26.5,-47 259.5,-47 259.5,-1 26.5,-1\" stroke=\"black\"/>\n",
       "<text font-family=\"Times,serif\" font-size=\"14.00\" text-anchor=\"middle\" x=\"77.5\" y=\"-20.3\">dense_3: Dense</text>\n",
       "<polyline fill=\"none\" points=\"128.5,-1 128.5,-47 \" stroke=\"black\"/>\n",
       "<text font-family=\"Times,serif\" font-size=\"14.00\" text-anchor=\"middle\" x=\"156\" y=\"-31.8\">input:</text>\n",
       "<polyline fill=\"none\" points=\"128.5,-24 183.5,-24 \" stroke=\"black\"/>\n",
       "<text font-family=\"Times,serif\" font-size=\"14.00\" text-anchor=\"middle\" x=\"156\" y=\"-8.8\">output:</text>\n",
       "<polyline fill=\"none\" points=\"183.5,-1 183.5,-47 \" stroke=\"black\"/>\n",
       "<text font-family=\"Times,serif\" font-size=\"14.00\" text-anchor=\"middle\" x=\"221.5\" y=\"-31.8\">(None, 20)</text>\n",
       "<polyline fill=\"none\" points=\"183.5,-24 259.5,-24 \" stroke=\"black\"/>\n",
       "<text font-family=\"Times,serif\" font-size=\"14.00\" text-anchor=\"middle\" x=\"221.5\" y=\"-8.8\">(None, 1)</text>\n",
       "</g>\n",
       "<!-- 139654224586448&#45;&gt;139654224588432 -->\n",
       "<g class=\"edge\" id=\"edge3\"><title>139654224586448-&gt;139654224588432</title>\n",
       "<path d=\"M143,-84.5931C143,-76.1177 143,-66.2974 143,-57.104\" fill=\"none\" stroke=\"black\"/>\n",
       "<polygon fill=\"black\" points=\"146.5,-57.0958 143,-47.0959 139.5,-57.0959 146.5,-57.0958\" stroke=\"black\"/>\n",
       "</g>\n",
       "</g>\n",
       "</svg>"
      ],
      "text/plain": [
       "<IPython.core.display.SVG object>"
      ]
     },
     "execution_count": 3,
     "metadata": {},
     "output_type": "execute_result"
    }
   ],
   "source": [
    "# model の表示\n",
    "from IPython.display import SVG\n",
    "from keras.utils.vis_utils import model_to_dot\n",
    "SVG(model_to_dot(model, show_shapes=True, show_layer_names=True).create(prog='dot', format='svg'))"
   ]
  },
  {
   "cell_type": "markdown",
   "metadata": {},
   "source": [
    "モデル定義が終わったら，<a href=\"https://keras.io/ja/getting-started/sequential-model-guide/#_1\">compile</a>が必要です．\n",
    "compile では，SGD, adamなどの最適化手法(optimizer)の指定，損失関数(loss function)の指定を行います．\n",
    "complieの詳細は，<a href=\"https://keras.io/ja/models/sequential/#compile\">こちら</a>です．\n",
    "\n",
    "利用可能な <a href=\"https://keras.io/ja/optimizers/\">optimizer</a> を確認しておきましょう．\n",
    "標準SDGとモーメンタムSDGの区別はありません．momentum rate の指定で区別できます．\n",
    "デフォルトでは，momentum rate=0.0 ですので，標準SDGになります．\n",
    "mometum=0.9 とすれば，一般的なモーメンタムSDGとなります．\n",
    "\n",
    "decay は，Weight Decay の正則化パラメータですが，1e-6 など通常は小さい値を指定しますが，最初はdecayを使わないことにして 0 としておきます．\n",
    "\n",
    "損失関数は，回帰問題なので，最小２乗誤差(mean_squared_error) を使います．<a href=\"https://keras.io/ja/losses/\">損失関数一覧</a>に使える関数が書かれています．"
   ]
  },
  {
   "cell_type": "code",
   "execution_count": 5,
   "metadata": {
    "collapsed": true
   },
   "outputs": [],
   "source": [
    "#sdg = keras.optimizers.SGD(lr=0.0001, momentum=0.0, decay=0.0)\n",
    "sdg_momentum = keras.optimizers.SGD(lr=0.0001, momentum=0.9, decay=0)  # momentamありの場合．\n",
    "# rmsprop = keras.optimizers.RMSprop()\n",
    "# adam = keras.optimizers.Adam()\n",
    "\n",
    "model.compile(optimizer=sdg_momentum, loss='mean_squared_error')"
   ]
  },
  {
   "cell_type": "markdown",
   "metadata": {},
   "source": [
    "モデル定義が終わったので，次に，近似する関数の定義を行って，学習データ(training data)，検証データ(validation data)を生成します．データの定義は，基本的に前回と同じです．"
   ]
  },
  {
   "cell_type": "code",
   "execution_count": 6,
   "metadata": {
    "collapsed": true
   },
   "outputs": [],
   "source": [
    "def f(x):\n",
    "    return 0.5*(x-2)**2-5\n",
    "\n",
    "X_train=np.arange(-10,10,0.01,dtype=np.float32)\n",
    "Y_train= f(X_train)\n",
    "# X_train, Y_trainは１次元配列なので，reshapeで ２次元の(n,dim)に変換します．dim=1です．\n",
    "X_train=np.reshape(X_train,[-1,1])   # (2000,)  -> (2000,1)\n",
    "Y_train=np.reshape(Y_train,[-1,1]) \n",
    "num_train=np.size(X_train)\n",
    "\n",
    "# テスト用の x も準備します．\n",
    "X_val=np.arange(-8,8,0.1,dtype=np.float32)\n",
    "Y_val= f(X_val)\n",
    "X_val=np.reshape(X_val,[-1,1])\n",
    "Y_val=np.reshape(Y_val,[-1,1])\n",
    "num_val=np.size(X_val)"
   ]
  },
  {
   "cell_type": "markdown",
   "metadata": {},
   "source": [
    "いよいよ，学習です．\n",
    "\n",
    "Kerasでは学習ループは書く必要はありません．\n",
    "<a href=\"https://keras.io/ja/models/sequential/#fit\"> fit </a> を利用すると，関数の中で学習ループを回してくれます．\n",
    "引数で，batch size, epoch数も指定します．\n",
    "\n",
    "```python\n",
    "model.fit(X_train, Y_train, batch_size=20, epochs=100, validation_data=(X_val,Y_val))\n",
    "```\n",
    "で実行可能です．コマンドラインからの実行ならこれで十分でしょう．\n",
    "ただし，Jupyter上での実行だと，epoch数分のloss 値が出力されてブラウザ上での表示が大変なことになります．\n",
    "\n",
    "そこで <a href=\"https://keras.io/ja/callbacks/\">callback</a>を使って，前回の誤差(loss)グラフ表示を実現します．(callback関数定義の詳細は理解不要です．) callback をうまく使えば，学習ループはKerasのものを利用しつつ，学習ループの途中での処理を追加することができます．\n",
    "```python\n",
    "model.fit(X_train, Y_train, batch_size=20, epochs=num_epoch, validation_data=(X_val,Y_val), verbose=0, callbacks=[show_graph])\n",
    "```\n",
    "として，show_graphを呼ぶようにして，代わりにverbose=0で途中経過のテキスト表示は中止します．\n"
   ]
  },
  {
   "cell_type": "code",
   "execution_count": 7,
   "metadata": {
    "collapsed": true
   },
   "outputs": [],
   "source": [
    "%matplotlib inline\n",
    "import matplotlib.pyplot as plt\n",
    "from IPython import display\n",
    "import keras\n",
    "\n",
    "# callback のクラス ShowGraphを定義\n",
    "# グラフ表示で必要なので，コンストラクタで，model, 最大エポック数 を受け取っておく．\n",
    "# model は，学習途中のパラメータを用いて， y=f(x)を描画するのに必要．\n",
    "class ShowGraph(keras.callbacks.Callback):\n",
    "    def __init__(self,model,max_epoch):\n",
    "        # 表示エリアの設定\n",
    "        self.fig=plt.figure()\n",
    "        self.fig1 = self.fig.add_subplot(121)\n",
    "        self.fig1.axis([0, max_epoch, 0, 50])\n",
    "        self.fig2 = self.fig.add_subplot(122)\n",
    "        self.fig2.axis([-8,8,-10,30])\n",
    "        self.fig1.set_title('loss')\n",
    "        self.fig1.set_ylabel('loss')\n",
    "        self.fig1.set_xlabel('epoch')\n",
    "        self.model=model\n",
    "        self.max_epoch=max_epoch\n",
    "        self.start=time.time()\n",
    "    \n",
    "    # 学習の最初に呼び出される\n",
    "    def on_train_begin(self, logs={}):\n",
    "        self.losses=[]\n",
    "        self.losses_val=[]\n",
    "        self.n_epoch=[]\n",
    "    \n",
    "    # 各epochの最後に呼び出される\n",
    "    def on_epoch_end(self, epoch, logs={}):\n",
    "        self.n_epoch.append(epoch)\n",
    "        self.losses.append(logs.get('loss'))\n",
    "        self.losses_val.append(logs.get('val_loss'))     \n",
    "        self.loss_val=logs.get('val_loss')\n",
    "    \n",
    "        display.clear_output(wait = True)\n",
    "        self.fig1.plot(self.n_epoch,self.losses,\"b\")\n",
    "        self.fig1.plot(self.n_epoch,self.losses_val,\"r\")\n",
    "        Y_pred=self.model.predict_on_batch(X_val)\n",
    "        x0=np.reshape(X_val,[-1])\n",
    "        y0=np.reshape(Y_pred,[-1])\n",
    "        self.fig2.plot(x0,y0,\"b\")\n",
    "        self.fig2.plot(x0,f(x0),\"r\")\n",
    "        self.fig2.set_title('y=0.5(x-2)^2-5')\n",
    "        self.fig2.set_ylabel('f(x)')\n",
    "        self.fig2.set_xlabel('x')\n",
    "        display.display(self.fig)\n",
    "        if epoch<self.max_epoch-1:\n",
    "            self.fig2.cla()\n",
    "    \n",
    "    # デストラクタ(オブジェクトが消滅時に実行される)  \n",
    "    # グラフが２つ表示されるのを防止．さらに最終val loss値の表示．\n",
    "    def __del__(self):\n",
    "        display.clear_output(wait = True)\n",
    "        print(\"loss_val:\",self.loss_val) \n",
    "        print('Time: ',time.time()-self.start)"
   ]
  },
  {
   "cell_type": "code",
   "execution_count": 8,
   "metadata": {
    "scrolled": true
   },
   "outputs": [
    {
     "name": "stdout",
     "output_type": "stream",
     "text": [
      "('loss_val:', 0.040352240073843859)\n",
      "('Time: ', 31.0934100151062)\n"
     ]
    },
    {
     "data": {
      "image/png": "[encoded data removed]",
      "text/plain": [
       "<matplotlib.figure.Figure at 0x7f03c8177b90>"
      ]
     },
     "metadata": {},
     "output_type": "display_data"
    }
   ],
   "source": [
    "num_epoch=100\n",
    "show_graph=ShowGraph(model,num_epoch)\n",
    "model.fit(X_train, Y_train, batch_size=20, epochs=num_epoch, validation_data=(X_val,Y_val), verbose=0, callbacks=[show_graph])\n",
    "del show_graph"
   ]
  },
  {
   "cell_type": "markdown",
   "metadata": {},
   "source": [
    "### 課題1\n",
    "以下の小問の(1)-(2)を解答せよ．\n",
    "\n",
    "1. 関数$ｆ(x)$を自由に書き換え，実行せよ．\n",
    "1. OptimizerをモーメンタムSDG, RMSprop, Adamに変更して，ノーマルなSDGとの違いを観察せよ．"
   ]
  },
  {
   "cell_type": "code",
   "execution_count": null,
   "metadata": {
    "collapsed": true
   },
   "outputs": [],
   "source": []
  }
 ],
 "metadata": {
  "kernelspec": {
   "display_name": "Python 2",
   "language": "python",
   "name": "python2"
  },
  "language_info": {
   "codemirror_mode": {
    "name": "ipython",
    "version": 2
   },
   "file_extension": ".py",
   "mimetype": "text/x-python",
   "name": "python",
   "nbconvert_exporter": "python",
   "pygments_lexer": "ipython2",
   "version": "2.7.6"
  }
 },
 "nbformat": 4,
 "nbformat_minor": 2
}
